{
 "cells": [
  {
   "cell_type": "markdown",
   "id": "a0eb8058",
   "metadata": {},
   "source": [
    "# Taller de Investigación\n",
    "## Trabajando con la simulación semianalitica mini\n",
    "\n",
    "La idea inicial, lectura de archivos, calculo de distrancia entre halos e identificación de las caracteristicas del ambiente. "
   ]
  },
  {
   "cell_type": "code",
   "execution_count": 1,
   "id": "b2c3d411",
   "metadata": {},
   "outputs": [],
   "source": [
    "import numpy as np\n",
    "import h5py # que pasa con hdf5? \n",
    "from collections import Counter"
   ]
  },
  {
   "cell_type": "markdown",
   "id": "212a3985",
   "metadata": {},
   "source": [
    "### Lectura de archivos\n",
    "Primero la lectura de datos: A continuación solo llama columnas de ID, X, Y, Z (trabajo con la pato)"
   ]
  },
  {
   "cell_type": "code",
   "execution_count": 2,
   "id": "dba8001d",
   "metadata": {},
   "outputs": [],
   "source": [
    "datos = np.genfromtxt(\"DATA/sussing_125.z0.000.AHF_halos\", usecols=[0,5,6,7], names=True)\n",
    "#datos"
   ]
  },
  {
   "cell_type": "markdown",
   "id": "d7f7d6d1",
   "metadata": {},
   "source": [
    "Clase de lectura de archivos, donde se requieren las columnas iniciales de interes de los archis, se lee el tipo hdf5 y se guarda la información asociada a un halo en particular. "
   ]
  },
  {
   "cell_type": "code",
   "execution_count": 3,
   "id": "9a1c8e34",
   "metadata": {},
   "outputs": [],
   "source": [
    "class read_file: \n",
    "    \n",
    "    def __init__(self, path, file, columns=None):\n",
    "        if columns is not None:\n",
    "            self.cols = columns\n",
    "            #self.hostcol = self.cols[1]; self.Numcol = self.cols[2]; self.Mcol = self.cols[3]; \n",
    "        else:\n",
    "            self.cols     = [0, 1, 2, 3, 5, 6, 7] #ID, hosthalo, substructuras, masa y posiciones xyz\n",
    "            self.hostcol  = self.cols[1]; self.Numcol = self.cols[2]; self.Mcol = self.cols[3]; \n",
    "            \n",
    "        self.path = path; self.file = file; self.read()\n",
    "        \n",
    "    def read(self):\n",
    "        if self.file == \"*.hdf5\":\n",
    "            print(\"No se ha hecho esta parte\")\n",
    "        else:\n",
    "            data = np.genfromtxt(str(self.path+self.file), usecols = self.cols, names=True)\n",
    "            self.data = np.array([list(row) for row in data])\n",
    "            \n",
    "    def halo_info(self, index, info=False): \n",
    "        self.hinfo = self.data[index]\n",
    "        \n",
    "        return(self.hinfo)"
   ]
  },
  {
   "cell_type": "markdown",
   "id": "0d7c0778",
   "metadata": {},
   "source": [
    "Ejemplo de lectura de archivos"
   ]
  },
  {
   "cell_type": "code",
   "execution_count": 4,
   "id": "1055111b",
   "metadata": {},
   "outputs": [],
   "source": [
    "sussing_125 = read_file(\"DATA/\", \"sussing_125.z0.000.AHF_halos\")\n",
    "a = sussing_125.halo_info(10)"
   ]
  },
  {
   "cell_type": "markdown",
   "id": "859648ae",
   "metadata": {},
   "source": [
    "Ahora se realizan calculos de distancia y velocidades. "
   ]
  },
  {
   "cell_type": "code",
   "execution_count": 7,
   "id": "f2c7e1c5",
   "metadata": {},
   "outputs": [],
   "source": [
    "class kinetic: #cinematica entre dos halos\n",
    "    \n",
    "    def __init__(self, halo1, halo2, position_cols, velocity_cols=None):\n",
    "        self.haloA = halo1; self.haloB=halo2\n",
    "        position(); distance()\n",
    "\n",
    "    def position(self, position_cols): #positions cols: lista correspondiente a las columnas x, y, z.\n",
    "        X = position_cols[0]; Y = position_cols[1]; Z = position_cols[3] \n",
    "        self.position = np.array([X,Y,Z])\n",
    "\n",
    "    def distance(self, posA, posB): \n",
    "        return(np.linalg.norm(posA-posB))\n",
    "    \n",
    "    #def velocity(self, , halo2): \n",
    "        #return(np.linalg.norm(halo1-halo2))"
   ]
  },
  {
   "cell_type": "code",
   "execution_count": null,
   "id": "60c50c41",
   "metadata": {},
   "outputs": [],
   "source": [
    "distancia = kinetic()"
   ]
  },
  {
   "cell_type": "markdown",
   "id": "d5e36774",
   "metadata": {},
   "source": [
    "### Tarea I: gráfica de halos vs masa"
   ]
  },
  {
   "cell_type": "code",
   "execution_count": null,
   "id": "1263d5a3",
   "metadata": {},
   "outputs": [],
   "source": [
    "sussing_125.data[]"
   ]
  },
  {
   "cell_type": "code",
   "execution_count": null,
   "id": "bf0dc6b1",
   "metadata": {},
   "outputs": [],
   "source": []
  }
 ],
 "metadata": {
  "kernelspec": {
   "display_name": "Python 3 (ipykernel)",
   "language": "python",
   "name": "python3"
  },
  "language_info": {
   "codemirror_mode": {
    "name": "ipython",
    "version": 3
   },
   "file_extension": ".py",
   "mimetype": "text/x-python",
   "name": "python",
   "nbconvert_exporter": "python",
   "pygments_lexer": "ipython3",
   "version": "3.10.9"
  }
 },
 "nbformat": 4,
 "nbformat_minor": 5
}
