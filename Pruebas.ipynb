{
 "cells": [
  {
   "cell_type": "code",
   "execution_count": 101,
   "id": "b2c3d411",
   "metadata": {},
   "outputs": [],
   "source": [
    "import numpy as np\n",
    "import h5py # que pasa con hdf5? \n",
    "from collections import Counter"
   ]
  },
  {
   "cell_type": "code",
   "execution_count": 133,
   "id": "dba8001d",
   "metadata": {},
   "outputs": [],
   "source": [
    "#Solo llama columnas de ID, X,Y,Z Esto se pensó con la pato\n",
    "datos = np.genfromtxt(\"DATA/sussing_125.z0.000.AHF_halos\")#, usecols=[0,5,6,7], names=True)\n",
    "#a = Counter(datos[:,0])\n",
    "#a.most_common(1)"
   ]
  },
  {
   "cell_type": "code",
   "execution_count": 135,
   "id": "c777222d",
   "metadata": {},
   "outputs": [
    {
     "data": {
      "text/plain": [
       "array([1.26420031e+10, 1.26420031e+10, 1.26420031e+10, ...,\n",
       "       1.26426464e+10, 1.26426464e+10, 1.26426464e+10])"
      ]
     },
     "execution_count": 135,
     "metadata": {},
     "output_type": "execute_result"
    }
   ],
   "source": [
    "data = np.array([list(row) for row in datos])\n",
    "data[:,0]"
   ]
  },
  {
   "cell_type": "code",
   "execution_count": 125,
   "id": "d0feee1d",
   "metadata": {},
   "outputs": [],
   "source": [
    "class read_file: \n",
    "    \n",
    "    def __init__(self, path, file, cols):\n",
    "        self.cols = cols; self.path = path; self.file = file\n",
    "        self.read()\n",
    "        \n",
    "    def read(self):\n",
    "        if self.file == \"*.hdf5\":\n",
    "            print(\"No se ha hecho esta parte\")\n",
    "        else:\n",
    "            data = np.genfromtxt(str(self.path+self.file), usecols = self.cols, names=True)\n",
    "            self.data = np.array([list(row) for row in data])\n",
    "            \n",
    "    def halo_info(self, ind): \n",
    "        self.hinfo = self.data[ind]\n",
    "        return(self.hinfo)"
   ]
  },
  {
   "cell_type": "code",
   "execution_count": 126,
   "id": "1055111b",
   "metadata": {},
   "outputs": [],
   "source": [
    "sussing_125 = read_file(\"DATA/\", \"sussing_125.z0.000.AHF_halos\", [0,5,6,7])"
   ]
  },
  {
   "cell_type": "code",
   "execution_count": 127,
   "id": "3d16281b",
   "metadata": {},
   "outputs": [
    {
     "data": {
      "text/plain": [
       "array([(1.26420031e+10, 521028.381348, 932746.398926, 426475.646973),\n",
       "       (1.26420031e+10, 519935.241699, 933129.760742, 427102.142334),\n",
       "       (1.26420031e+10, 519654.602051, 932959.716797, 427546.081543), ...,\n",
       "       (1.26426464e+10, 481445.373535, 944102.600098, 454402.984619),\n",
       "       (1.26426464e+10, 507455.993652, 945348.205566, 450962.280273),\n",
       "       (1.26426464e+10, 509932.861328, 950948.120117, 451004.577637)],\n",
       "      dtype=[('ID1', '<f8'), ('Xc6', '<f8'), ('Yc7', '<f8'), ('Zc8', '<f8')])"
      ]
     },
     "execution_count": 127,
     "metadata": {},
     "output_type": "execute_result"
    }
   ],
   "source": [
    "sussing_125.data"
   ]
  },
  {
   "cell_type": "code",
   "execution_count": 57,
   "id": "6ed3df5b",
   "metadata": {},
   "outputs": [
    {
     "data": {
      "text/plain": [
       "(1.26420031e+10, 519963.012695, 932982.23877, 427072.845459)"
      ]
     },
     "execution_count": 57,
     "metadata": {},
     "output_type": "execute_result"
    }
   ],
   "source": [
    "a"
   ]
  },
  {
   "cell_type": "code",
   "execution_count": 5,
   "id": "f2c7e1c5",
   "metadata": {},
   "outputs": [],
   "source": [
    "class kinetic: \n",
    "    \n",
    "    def halo_position(self, halo_info):\n",
    "        self.X = self.data(\"Xc(6)\"); self.Y = self.data(\"Yc(7)\"); self.Z = self.data(\"Zc(8)\")\n",
    "    \n",
    "    #def distance(self, halo1, halo2): \n",
    "        #self.distance = np.sqrt(()**2+()**2+()**2)"
   ]
  },
  {
   "cell_type": "code",
   "execution_count": 23,
   "id": "60c50c41",
   "metadata": {},
   "outputs": [],
   "source": [
    "sussing_125 = read_dist(\"DATA/\", \"sussing_125.z0.000.AHF_halos\", [0,5,6,7])"
   ]
  },
  {
   "cell_type": "code",
   "execution_count": 26,
   "id": "1263d5a3",
   "metadata": {},
   "outputs": [
    {
     "data": {
      "text/plain": [
       "array([(1.26420031e+10, 521028.381348, 932746.398926, 426475.646973),\n",
       "       (1.26420031e+10, 519935.241699, 933129.760742, 427102.142334),\n",
       "       (1.26420031e+10, 519654.602051, 932959.716797, 427546.081543), ...,\n",
       "       (1.26426464e+10, 481445.373535, 944102.600098, 454402.984619),\n",
       "       (1.26426464e+10, 507455.993652, 945348.205566, 450962.280273),\n",
       "       (1.26426464e+10, 509932.861328, 950948.120117, 451004.577637)],\n",
       "      dtype=[('ID1', '<f8'), ('Xc6', '<f8'), ('Yc7', '<f8'), ('Zc8', '<f8')])"
      ]
     },
     "execution_count": 26,
     "metadata": {},
     "output_type": "execute_result"
    }
   ],
   "source": [
    "sussing_125.data[]"
   ]
  },
  {
   "cell_type": "code",
   "execution_count": null,
   "id": "f96a1018",
   "metadata": {},
   "outputs": [],
   "source": []
  }
 ],
 "metadata": {
  "kernelspec": {
   "display_name": "Python 3 (ipykernel)",
   "language": "python",
   "name": "python3"
  },
  "language_info": {
   "codemirror_mode": {
    "name": "ipython",
    "version": 3
   },
   "file_extension": ".py",
   "mimetype": "text/x-python",
   "name": "python",
   "nbconvert_exporter": "python",
   "pygments_lexer": "ipython3",
   "version": "3.11.4"
  }
 },
 "nbformat": 4,
 "nbformat_minor": 5
}
