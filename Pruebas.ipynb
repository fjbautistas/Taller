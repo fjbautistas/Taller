{
 "cells": [
  {
   "cell_type": "code",
   "execution_count": 1,
   "id": "8813b5f5",
   "metadata": {},
   "outputs": [],
   "source": [
    "import numpy as np\n",
    "import h5py # que pasa con hdf5? "
   ]
  },
  {
   "cell_type": "code",
   "execution_count": 31,
   "id": "95884e7e",
   "metadata": {},
   "outputs": [
    {
     "data": {
      "text/plain": [
       "(1.26420031e+10, 521028.381348, 932746.398926, 426475.646973)"
      ]
     },
     "execution_count": 31,
     "metadata": {},
     "output_type": "execute_result"
    }
   ],
   "source": [
    "#Solo llama columnas de ID, X,Y,Z Esto se pensó con la pato\n",
    "datos = np.genfromtxt(\"DATA/sussing_125.z0.000.AHF_halos\", usecols=[0,5,6,7], names=True)\n",
    "datos[0]"
   ]
  },
  {
   "cell_type": "code",
   "execution_count": 32,
   "id": "ae0b0b5d",
   "metadata": {},
   "outputs": [],
   "source": [
    "class read_dist:\n",
    "    \n",
    "    def __init__(self, path, file, cols):\n",
    "        self.cols      = cols; self.path = path; self.file = file\n",
    "        self.data      = np.genfromtxt(str(path+file), usecols = self.cols, names=True)\n",
    "        self.halo_info = self.data\n",
    "    \n",
    "    #def read_file(self.file): Pensarlo mejor para leer los hdf5, tal vez un if? \n",
    "    #@staticmethod\n",
    "    def halo_position(self, halo_info): # que unidades tienen estas distancias? \n",
    "        self.X = self.data(\"Xc(6)\"); self.Y = self.data(\"Yc(7)\"); self.Z = self.data(\"Zc(8)\")\n",
    "    \n",
    "    #def distance(self, halo1, halo2): \n",
    "        #self.distance = np.sqrt(()**2+()**2+()**2)\n",
    "            \n",
    " "
   ]
  },
  {
   "cell_type": "code",
   "execution_count": 22,
   "id": "967e1444",
   "metadata": {},
   "outputs": [],
   "source": [
    "#Xc(6)   Yc(7)   Zc(8)"
   ]
  },
  {
   "cell_type": "code",
   "execution_count": 23,
   "id": "883826c0",
   "metadata": {},
   "outputs": [],
   "source": [
    "sussing_125 = read_dist(\"DATA/\", \"sussing_125.z0.000.AHF_halos\", [0,5,6,7])"
   ]
  },
  {
   "cell_type": "code",
   "execution_count": 26,
   "id": "af7d6c7a",
   "metadata": {},
   "outputs": [
    {
     "data": {
      "text/plain": [
       "array([(1.26420031e+10, 521028.381348, 932746.398926, 426475.646973),\n",
       "       (1.26420031e+10, 519935.241699, 933129.760742, 427102.142334),\n",
       "       (1.26420031e+10, 519654.602051, 932959.716797, 427546.081543), ...,\n",
       "       (1.26426464e+10, 481445.373535, 944102.600098, 454402.984619),\n",
       "       (1.26426464e+10, 507455.993652, 945348.205566, 450962.280273),\n",
       "       (1.26426464e+10, 509932.861328, 950948.120117, 451004.577637)],\n",
       "      dtype=[('ID1', '<f8'), ('Xc6', '<f8'), ('Yc7', '<f8'), ('Zc8', '<f8')])"
      ]
     },
     "execution_count": 26,
     "metadata": {},
     "output_type": "execute_result"
    }
   ],
   "source": [
    "sussing_125.data[]"
   ]
  },
  {
   "cell_type": "code",
   "execution_count": null,
   "id": "4ee7faeb",
   "metadata": {},
   "outputs": [],
   "source": []
  }
 ],
 "metadata": {
  "kernelspec": {
   "display_name": "Python 3 (ipykernel)",
   "language": "python",
   "name": "python3"
  },
  "language_info": {
   "codemirror_mode": {
    "name": "ipython",
    "version": 3
   },
   "file_extension": ".py",
   "mimetype": "text/x-python",
   "name": "python",
   "nbconvert_exporter": "python",
   "pygments_lexer": "ipython3",
   "version": "3.11.4"
  }
 },
 "nbformat": 4,
 "nbformat_minor": 5
}
